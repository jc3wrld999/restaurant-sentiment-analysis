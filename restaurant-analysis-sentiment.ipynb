{
 "cells": [
  {
   "cell_type": "code",
   "execution_count": 10,
   "id": "c7b7463a",
   "metadata": {},
   "outputs": [],
   "source": [
    "%matplotlib inline\n",
    "\n",
    "import pandas as pd\n",
    "import numpy as np\n",
    "import matplotlib.pyplot as plt\n",
    "import seaborn as sns\n",
    "\n",
    "import warnings\n",
    "warnings.filterwarnings(\"ignore\")"
   ]
  },
  {
   "cell_type": "code",
   "execution_count": 19,
   "id": "914c535e",
   "metadata": {},
   "outputs": [
    {
     "name": "stdout",
     "output_type": "stream",
     "text": [
      "https://place.map.kakao.com/1954563179\n",
      "https://place.map.kakao.com/25449227\n",
      "https://place.map.kakao.com/929624344\n",
      "https://place.map.kakao.com/26451376\n",
      "https://place.map.kakao.com/27466069\n",
      "https://place.map.kakao.com/1652547690\n",
      "https://place.map.kakao.com/16878201\n",
      "https://place.map.kakao.com/1549878166\n",
      "https://place.map.kakao.com/2074600451\n",
      "https://place.map.kakao.com/1305442271\n",
      "https://place.map.kakao.com/2062610369\n",
      "https://place.map.kakao.com/918167314\n",
      "https://place.map.kakao.com/14547125\n",
      "https://place.map.kakao.com/24926523\n",
      "https://place.map.kakao.com/2020851028\n"
     ]
    }
   ],
   "source": [
    "from selenium import webdriver\n",
    "from selenium.webdriver.common.by import By\n",
    "from bs4 import BeautifulSoup\n",
    "import re\n",
    "import time\n",
    "\n",
    "# brew 로 설치된 chromedriver의 path (Mac)\n",
    "# path = '/usr/local/bin/chromedriver'\n",
    "\n",
    "# 윈도우용 크롬 웹드라이버 실행 경로 (Windows)\n",
    "path = 'chromedriver.exe'\n",
    "\n",
    "# 크롤링할 사이트 주소 정의\n",
    "source_url = \"https://map.kakao.com/\"\n",
    "\n",
    "# 크롬 드라이버 사용\n",
    "# driver = webdriver.Chrome(path)\n",
    "driver = webdriver.Chrome(executable_path=excutable_path)\n",
    "\n",
    "# 카카오 지도에 접속\n",
    "driver.get(source_url)\n",
    "\n",
    "# 검색\n",
    "driver.find_element(By.XPATH, \"//input[@id='search.keyword.query']\").send_keys(\"가디역 맛집\")\n",
    "searchbutton = driver.find_element(By.XPATH, \"//button[@id='search.keyword.submit']\")\n",
    "driver.execute_script(\"arguments[0].click();\", searchbutton)\n",
    "\n",
    "# 검색 결과를 가져올 시간을 기다림\n",
    "time.sleep(2)\n",
    "\n",
    "html = driver.page_source\n",
    "\n",
    "# html 정보 파싱\n",
    "soup = BeautifulSoup(html, \"html.parser\")\n",
    "moreviews = soup.find_all(name=\"a\", attrs={\"class\":\"moreview\"})\n",
    "\n",
    "# a태그의 href 속성을 리스트로 추출하여, 크롤링 할 페이지 리스트를 생성\n",
    "page_urls = []\n",
    "for moreview in moreviews:\n",
    "    page_url = moreview.get(\"href\")\n",
    "    print(page_url)\n",
    "    page_urls.append(page_url)\n",
    "\n",
    "# 브라우저 종료\n",
    "driver.close()"
   ]
  },
  {
   "cell_type": "code",
   "execution_count": 23,
   "id": "995bff9e",
   "metadata": {},
   "outputs": [
    {
     "name": "stdout",
     "output_type": "stream",
     "text": [
      "<span class=\"color_b\">4.1<span class=\"screen_out\">점</span></span>\n",
      "<span class=\"color_b\">4.1<span class=\"screen_out\">점</span></span>\n",
      "<span class=\"color_b\">368<span class=\"screen_out\">개</span></span>\n",
      "<span class=\"color_b\">368<span class=\"screen_out\">개</span></span>\n",
      "<span class=\"color_b\">26</span>\n",
      "<span class=\"color_b\">26</span>\n"
     ]
    },
    {
     "ename": "InvalidSessionIdException",
     "evalue": "Message: invalid session id\nStacktrace:\nBacktrace:\n\t(No symbol) [0x0068F243]\n\t(No symbol) [0x00617FD1]\n\t(No symbol) [0x0050CF10]\n\t(No symbol) [0x005312ED]\n\t(No symbol) [0x0053269D]\n\tGetHandleVerifier [0x00929A22+2655074]\n\tGetHandleVerifier [0x0091CA24+2601828]\n\tGetHandleVerifier [0x00738C0A+619850]\n\tGetHandleVerifier [0x00737830+614768]\n\t(No symbol) [0x006205FC]\n\t(No symbol) [0x00625968]\n\t(No symbol) [0x00625A55]\n\t(No symbol) [0x0063051B]\n\tBaseThreadInitThunk [0x76186BD9+25]\n\tRtlGetFullPathName_UEx [0x76EF8FD2+1218]\n\tRtlGetFullPathName_UEx [0x76EF8F9D+1165]\n",
     "output_type": "error",
     "traceback": [
      "\u001b[1;31m---------------------------------------------------------------------------\u001b[0m",
      "\u001b[1;31mInvalidSessionIdException\u001b[0m                 Traceback (most recent call last)",
      "Cell \u001b[1;32mIn [23], line 9\u001b[0m\n\u001b[0;32m      5\u001b[0m driver \u001b[38;5;241m=\u001b[39m webdriver\u001b[38;5;241m.\u001b[39mChrome(executable_path\u001b[38;5;241m=\u001b[39mpath)\n\u001b[0;32m      7\u001b[0m \u001b[38;5;28;01mfor\u001b[39;00m page_url \u001b[38;5;129;01min\u001b[39;00m page_urls:\n\u001b[1;32m----> 9\u001b[0m     \u001b[43mdriver\u001b[49m\u001b[38;5;241;43m.\u001b[39;49m\u001b[43mget\u001b[49m\u001b[43m(\u001b[49m\u001b[43mpage_url\u001b[49m\u001b[43m)\u001b[49m \u001b[38;5;66;03m# 상세 페이지\u001b[39;00m\n\u001b[0;32m     10\u001b[0m     time\u001b[38;5;241m.\u001b[39msleep(\u001b[38;5;241m2\u001b[39m)\n\u001b[0;32m     12\u001b[0m     html \u001b[38;5;241m=\u001b[39m driver\u001b[38;5;241m.\u001b[39mpage_source\n",
      "File \u001b[1;32mc:\\python39\\lib\\site-packages\\selenium\\webdriver\\remote\\webdriver.py:455\u001b[0m, in \u001b[0;36mWebDriver.get\u001b[1;34m(self, url)\u001b[0m\n\u001b[0;32m    451\u001b[0m \u001b[38;5;28;01mdef\u001b[39;00m \u001b[38;5;21mget\u001b[39m(\u001b[38;5;28mself\u001b[39m, url: \u001b[38;5;28mstr\u001b[39m) \u001b[38;5;241m-\u001b[39m\u001b[38;5;241m>\u001b[39m \u001b[38;5;28;01mNone\u001b[39;00m:\n\u001b[0;32m    452\u001b[0m     \u001b[38;5;124;03m\"\"\"\u001b[39;00m\n\u001b[0;32m    453\u001b[0m \u001b[38;5;124;03m    Loads a web page in the current browser session.\u001b[39;00m\n\u001b[0;32m    454\u001b[0m \u001b[38;5;124;03m    \"\"\"\u001b[39;00m\n\u001b[1;32m--> 455\u001b[0m     \u001b[38;5;28;43mself\u001b[39;49m\u001b[38;5;241;43m.\u001b[39;49m\u001b[43mexecute\u001b[49m\u001b[43m(\u001b[49m\u001b[43mCommand\u001b[49m\u001b[38;5;241;43m.\u001b[39;49m\u001b[43mGET\u001b[49m\u001b[43m,\u001b[49m\u001b[43m \u001b[49m\u001b[43m{\u001b[49m\u001b[38;5;124;43m\"\u001b[39;49m\u001b[38;5;124;43murl\u001b[39;49m\u001b[38;5;124;43m\"\u001b[39;49m\u001b[43m:\u001b[49m\u001b[43m \u001b[49m\u001b[43murl\u001b[49m\u001b[43m}\u001b[49m\u001b[43m)\u001b[49m\n",
      "File \u001b[1;32mc:\\python39\\lib\\site-packages\\selenium\\webdriver\\remote\\webdriver.py:444\u001b[0m, in \u001b[0;36mWebDriver.execute\u001b[1;34m(self, driver_command, params)\u001b[0m\n\u001b[0;32m    442\u001b[0m response \u001b[38;5;241m=\u001b[39m \u001b[38;5;28mself\u001b[39m\u001b[38;5;241m.\u001b[39mcommand_executor\u001b[38;5;241m.\u001b[39mexecute(driver_command, params)\n\u001b[0;32m    443\u001b[0m \u001b[38;5;28;01mif\u001b[39;00m response:\n\u001b[1;32m--> 444\u001b[0m     \u001b[38;5;28;43mself\u001b[39;49m\u001b[38;5;241;43m.\u001b[39;49m\u001b[43merror_handler\u001b[49m\u001b[38;5;241;43m.\u001b[39;49m\u001b[43mcheck_response\u001b[49m\u001b[43m(\u001b[49m\u001b[43mresponse\u001b[49m\u001b[43m)\u001b[49m\n\u001b[0;32m    445\u001b[0m     response[\u001b[38;5;124m\"\u001b[39m\u001b[38;5;124mvalue\u001b[39m\u001b[38;5;124m\"\u001b[39m] \u001b[38;5;241m=\u001b[39m \u001b[38;5;28mself\u001b[39m\u001b[38;5;241m.\u001b[39m_unwrap_value(response\u001b[38;5;241m.\u001b[39mget(\u001b[38;5;124m\"\u001b[39m\u001b[38;5;124mvalue\u001b[39m\u001b[38;5;124m\"\u001b[39m, \u001b[38;5;28;01mNone\u001b[39;00m))\n\u001b[0;32m    446\u001b[0m     \u001b[38;5;28;01mreturn\u001b[39;00m response\n",
      "File \u001b[1;32mc:\\python39\\lib\\site-packages\\selenium\\webdriver\\remote\\errorhandler.py:249\u001b[0m, in \u001b[0;36mErrorHandler.check_response\u001b[1;34m(self, response)\u001b[0m\n\u001b[0;32m    247\u001b[0m         alert_text \u001b[38;5;241m=\u001b[39m value[\u001b[38;5;124m\"\u001b[39m\u001b[38;5;124malert\u001b[39m\u001b[38;5;124m\"\u001b[39m]\u001b[38;5;241m.\u001b[39mget(\u001b[38;5;124m\"\u001b[39m\u001b[38;5;124mtext\u001b[39m\u001b[38;5;124m\"\u001b[39m)\n\u001b[0;32m    248\u001b[0m     \u001b[38;5;28;01mraise\u001b[39;00m exception_class(message, screen, stacktrace, alert_text)  \u001b[38;5;66;03m# type: ignore[call-arg]  # mypy is not smart enough here\u001b[39;00m\n\u001b[1;32m--> 249\u001b[0m \u001b[38;5;28;01mraise\u001b[39;00m exception_class(message, screen, stacktrace)\n",
      "\u001b[1;31mInvalidSessionIdException\u001b[0m: Message: invalid session id\nStacktrace:\nBacktrace:\n\t(No symbol) [0x0068F243]\n\t(No symbol) [0x00617FD1]\n\t(No symbol) [0x0050CF10]\n\t(No symbol) [0x005312ED]\n\t(No symbol) [0x0053269D]\n\tGetHandleVerifier [0x00929A22+2655074]\n\tGetHandleVerifier [0x0091CA24+2601828]\n\tGetHandleVerifier [0x00738C0A+619850]\n\tGetHandleVerifier [0x00737830+614768]\n\t(No symbol) [0x006205FC]\n\t(No symbol) [0x00625968]\n\t(No symbol) [0x00625A55]\n\t(No symbol) [0x0063051B]\n\tBaseThreadInitThunk [0x76186BD9+25]\n\tRtlGetFullPathName_UEx [0x76EF8FD2+1218]\n\tRtlGetFullPathName_UEx [0x76EF8F9D+1165]\n"
     ]
    }
   ],
   "source": [
    "columns = ['score', 'review']\n",
    "df = pd.DataFrame(columns=columns)\n",
    "\n",
    "# driver = webdriver.Chrome(path)\n",
    "driver = webdriver.Chrome(executable_path=path)\n",
    "\n",
    "for page_url in page_urls:\n",
    "    \n",
    "    driver.get(page_url) # 상세 페이지\n",
    "    time.sleep(2)\n",
    "    \n",
    "    html = driver.page_source\n",
    "    soup = BeautifulSoup(html, 'html.parser')\n",
    "    \n",
    "#     contents_div = soup.find(name='div', attrs={'class':'evaluation_review'}) \n",
    "    rates = soup.find_all(name='span', attrs={'class':'color_b'}) # 별점\n",
    "    reviews = soup.find_all(name='span', attrs={'class':'color_b'}) # 리뷰\n",
    "    \n",
    "    for rate, review in zip(rates, reviews):\n",
    "        print(rate)\n",
    "        print(review)\n",
    "#         row = [rate.text[0], review.find(name='span').text]\n",
    "#         series = pd.Series(row, index=df.columns)\n",
    "#         df = df.append(series, ignore_index=True)\n",
    "        \n",
    "    # 2-5페이지 크롤링\n",
    "#     for button_num in range(2, 6):\n",
    "#         try:\n",
    "#             driver.find_element(By.XPATH, \"//a[@data-page='\" + str(button_num) + \"']\").click()\n",
    "#             time.sleep(2)\n",
    "            \n",
    "#             html = driver.page_source\n",
    "#             soup = BeautifulSoup(html, 'html.parser')\n",
    "            \n",
    "#             contents_div = soup.find(name='div', attrs={'class':'evaluation_review'}) \n",
    "#             rates = contents_div.find_all(name='em', attrs={'class':'num_rate'}) # 별점\n",
    "#             reviews = contents_div.find_all(name='em', attrs={'class':'txt_comment'}) # 리뷰\n",
    "            \n",
    "#             for rate, review in zip(rates, reviews):\n",
    "#                 row = [rate.text[0], review.find(name='span').text]\n",
    "#                 series = pd.Series(row, index=df.columns)\n",
    "#                 df = df.append(series, ignore_index=True)\n",
    "#         except:\n",
    "#             break\n",
    "    driver.close()"
   ]
  }
 ],
 "metadata": {
  "kernelspec": {
   "display_name": "Python 3 (ipykernel)",
   "language": "python",
   "name": "python3"
  },
  "language_info": {
   "codemirror_mode": {
    "name": "ipython",
    "version": 3
   },
   "file_extension": ".py",
   "mimetype": "text/x-python",
   "name": "python",
   "nbconvert_exporter": "python",
   "pygments_lexer": "ipython3",
   "version": "3.9.5"
  }
 },
 "nbformat": 4,
 "nbformat_minor": 5
}
