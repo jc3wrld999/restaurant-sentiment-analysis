{
 "cells": [
  {
   "cell_type": "markdown",
   "id": "b37988b2",
   "metadata": {},
   "source": [
    "## TF-IDF를 이용한 핵심어 추출\n",
    "- 형태소 추출하기\n",
    "    - 한글 텍스트로 전처리\n",
    "    - 형태소 단위로 추출\n",
    "- 분류 모델의 학습 데이터로 변환\n",
    "    - corpus index 생성\n",
    "    - TF-IDF로 변환"
   ]
  },
  {
   "cell_type": "code",
   "execution_count": 2,
   "id": "3bd07dfc",
   "metadata": {},
   "outputs": [],
   "source": [
    "%matplotlib inline\n",
    "\n",
    "import pandas as pd\n",
    "import numpy as np\n",
    "import matplotlib.pyplot as plt\n",
    "import seaborn as sns\n",
    "\n",
    "import warnings\n",
    "warnings.filterwarnings(\"ignore\")"
   ]
  },
  {
   "cell_type": "code",
   "execution_count": 28,
   "id": "0a18da8b",
   "metadata": {},
   "outputs": [],
   "source": [
    "import re\n",
    "from konlpy.tag import Okt\n",
    "\n",
    "# 한글만 추출\n",
    "def text_cleaning(text):\n",
    "    hangul = re.compile('[^ ㄱ-ㅣ가-힣]+')\n",
    "    result = hangul.sub('', text)\n",
    "    return result\n",
    "\n",
    "# 형태소 단위로 추출\n",
    "def get_pos(x):\n",
    "    tagger = Okt()\n",
    "    pos = tagger.pos(x)\n",
    "    pos = ['{}/{}'.format(word, tag) for word, tag in pos]\n",
    "    return pos\n"
   ]
  },
  {
   "cell_type": "code",
   "execution_count": 29,
   "id": "690755fb",
   "metadata": {},
   "outputs": [
    {
     "name": "stdout",
     "output_type": "stream",
     "text": [
      "['맛있었어요/Adjective', '콩나물/Noun', '엄청/Adverb', '좋아해서/Adjective', '많이/Adverb', '먹었는데도/Verb', '많이/Adverb', '남았어요/Verb', '조금/Noun', '아까웠/Adjective', '슴/Noun', 'ㅠㅠ/KoreanParticle', '남은건/Verb', '포장/Noun', '도/Josa', '되서/Verb', '너무/Adverb', '좋았습니다/Adjective', '다음/Noun', '엔/Josa', '불고기/Noun', '먹으러/Verb', '가고싶어요/Verb', '너무/Adverb', '맛있게/Adjective', '잘/Verb', '먹었/Verb', '습/Noun', '니당/Verb']\n"
     ]
    }
   ],
   "source": [
    "\n",
    "df = pd.read_csv(\"review_data.csv\")\n",
    "\n",
    "# 한글만 추출\n",
    "df['ko_text'] = df['review'].apply(lambda x: text_cleaning(str(x)))\n",
    "del df['review']\n",
    "df = df[df['ko_text'].str.len() > 0]\n",
    "\n",
    "# 형태소 단위로 추출\n",
    "result = get_pos(df['ko_text'].values[0])\n",
    "print(result)"
   ]
  },
  {
   "cell_type": "code",
   "execution_count": 34,
   "id": "d3f0c403",
   "metadata": {},
   "outputs": [
    {
     "name": "stdout",
     "output_type": "stream",
     "text": [
      "(37, 650)\n",
      "{'맛있었어요/Adjective': 220, '콩나물/Noun': 581, '엄청/Adverb': 409, '좋아해서/Adjective': 524, '많이/Adverb': 206,..\n",
      "맛있었어요콩나물 엄청 좋아해서 많이 먹었는데도 많이 남았어요 조금 아까웠슴 ㅠㅠ남은건 포장도 되서 너무 좋았습니다다음엔 불고기 먹으러 가고싶어요 너무 맛있게 잘 먹었습니당\n",
      "  (0, 220)\t1\n",
      "  (0, 581)\t1\n",
      "  (0, 409)\t1\n",
      "  (0, 524)\t1\n",
      "  (0, 206)\t2\n",
      "  (0, 241)\t1\n",
      "  (0, 105)\t1\n",
      "  (0, 512)\t1\n",
      "  (0, 367)\t1\n",
      "  (0, 343)\t1\n",
      "  (0, 3)\t1\n",
      "  (0, 106)\t1\n",
      "  (0, 600)\t1\n",
      "  (0, 156)\t1\n",
      "  (0, 161)\t1\n",
      "  (0, 115)\t2\n",
      "  (0, 525)\t1\n",
      "  (0, 134)\t1\n",
      "  (0, 423)\t1\n",
      "  (0, 300)\t1\n",
      "  (0, 242)\t1\n",
      "  (0, 8)\t1\n",
      "  (0, 212)\t1\n",
      "  (0, 491)\t1\n",
      "  (0, 239)\t1\n",
      "  (0, 344)\t1\n",
      "  (0, 126)\t1\n",
      "(37, 650)\n",
      "  (0, 600)\t0.1554287617162363\n",
      "  (0, 581)\t0.18856482412924638\n",
      "  (0, 525)\t0.18856482412924638\n",
      "  (0, 524)\t0.18856482412924638\n",
      "  (0, 512)\t0.18856482412924638\n",
      "  (0, 491)\t0.16918147019607968\n",
      "  (0, 423)\t0.18856482412924638\n",
      "  (0, 409)\t0.16918147019607968\n",
      "  (0, 367)\t0.18856482412924638\n",
      "  (0, 344)\t0.18856482412924638\n",
      "  (0, 343)\t0.18856482412924638\n",
      "  (0, 300)\t0.18856482412924638\n",
      "  (0, 242)\t0.18856482412924638\n",
      "  (0, 241)\t0.18856482412924638\n",
      "  (0, 239)\t0.18856482412924638\n",
      "  (0, 220)\t0.16918147019607968\n",
      "  (0, 212)\t0.18856482412924638\n",
      "  (0, 206)\t0.33836294039215936\n",
      "  (0, 161)\t0.18856482412924638\n",
      "  (0, 156)\t0.1070689445135504\n",
      "  (0, 134)\t0.16918147019607968\n",
      "  (0, 126)\t0.18856482412924638\n",
      "  (0, 115)\t0.24458539860645231\n",
      "  (0, 106)\t0.18856482412924638\n",
      "  (0, 105)\t0.18856482412924638\n",
      "  (0, 8)\t0.18856482412924638\n",
      "  (0, 3)\t0.18856482412924638\n"
     ]
    }
   ],
   "source": [
    "from sklearn.feature_extraction.text import CountVectorizer\n",
    "from sklearn.feature_extraction.text import TfidfTransformer\n",
    "\n",
    "# 형태소를 벡터 형태의 학습 데이터셋으로 변환\n",
    "index_vectorizer = CountVectorizer(tokenizer = lambda x: get_pos(x))\n",
    "X = index_vectorizer.fit_transform(df['ko_text'].to_list())\n",
    "print(X.shape)\n",
    "print(str(index_vectorizer.vocabulary_)[:100]+\"..\")\n",
    "print(df['ko_text'].values[0])\n",
    "print(X[0])\n",
    "\n",
    "# TF-IDF로 변환\n",
    "# 형태소를 벡터 형태의 학습데이터셋으로 변환\n",
    "tfidf_vectorizer = TfidfTransformer()\n",
    "X = tfidf_vectorizer.fit_transform(X)\n",
    "print(X.shape)\n",
    "print(X[0])"
   ]
  },
  {
   "cell_type": "markdown",
   "id": "f24272d0",
   "metadata": {},
   "source": [
    "## 긍정 부정 리뷰 분류하기\n",
    "- 분류 모델링\n",
    "    - 데이터셋 분리\n",
    "    - 로지스틱 회귀"
   ]
  },
  {
   "cell_type": "code",
   "execution_count": null,
   "id": "ff154879",
   "metadata": {},
   "outputs": [],
   "source": []
  }
 ],
 "metadata": {
  "kernelspec": {
   "display_name": "Python 3 (ipykernel)",
   "language": "python",
   "name": "python3"
  },
  "language_info": {
   "codemirror_mode": {
    "name": "ipython",
    "version": 3
   },
   "file_extension": ".py",
   "mimetype": "text/x-python",
   "name": "python",
   "nbconvert_exporter": "python",
   "pygments_lexer": "ipython3",
   "version": "3.9.5"
  }
 },
 "nbformat": 4,
 "nbformat_minor": 5
}
