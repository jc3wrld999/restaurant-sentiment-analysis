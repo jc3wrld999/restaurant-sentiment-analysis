{
 "cells": [
  {
   "cell_type": "markdown",
   "id": "f16e0c3c",
   "metadata": {},
   "source": [
    "## TF-IDF를 이용한 핵심어 추출\n",
    "- 형태소 추출하기\n",
    "    - 한글 텍스트로 전처리\n",
    "    - 형태소 단위로 추출\n",
    "- 분류 모델의 학습 데이터로 변환\n",
    "    - corpus index 생성\n",
    "    - TF-IDF로 변환"
   ]
  },
  {
   "cell_type": "code",
   "execution_count": 2,
   "id": "b48c8ac6",
   "metadata": {},
   "outputs": [],
   "source": [
    "%matplotlib inline\n",
    "\n",
    "import pandas as pd\n",
    "import numpy as np\n",
    "import matplotlib.pyplot as plt\n",
    "import seaborn as sns\n",
    "\n",
    "import warnings\n",
    "warnings.filterwarnings(\"ignore\")"
   ]
  },
  {
   "cell_type": "code",
   "execution_count": 28,
   "id": "96297c93",
   "metadata": {},
   "outputs": [],
   "source": [
    "import re\n",
    "from konlpy.tag import Okt\n",
    "\n",
    "# 한글만 추출\n",
    "def text_cleaning(text):\n",
    "    hangul = re.compile('[^ ㄱ-ㅣ가-힣]+')\n",
    "    result = hangul.sub('', text)\n",
    "    return result\n",
    "\n",
    "# 형태소 단위로 추출\n",
    "def get_pos(x):\n",
    "    tagger = Okt()\n",
    "    pos = tagger.pos(x)\n",
    "    pos = ['{}/{}'.format(word, tag) for word, tag in pos]\n",
    "    return pos\n"
   ]
  },
  {
   "cell_type": "code",
   "execution_count": 44,
   "id": "d20147ba",
   "metadata": {},
   "outputs": [
    {
     "data": {
      "text/plain": [
       "(715, 3)"
      ]
     },
     "execution_count": 44,
     "metadata": {},
     "output_type": "execute_result"
    }
   ],
   "source": [
    "df2 = pd.read_csv(\"review_data.csv\")\n",
    "df2.shape"
   ]
  },
  {
   "cell_type": "code",
   "execution_count": 45,
   "id": "62054328",
   "metadata": {},
   "outputs": [
    {
     "name": "stdout",
     "output_type": "stream",
     "text": [
      "['맛있었어요/Adjective', '콩나물/Noun', '엄청/Adverb', '좋아해서/Adjective', '많이/Adverb', '먹었는데도/Verb', '많이/Adverb', '남았어요/Verb', '조금/Noun', '아까웠/Adjective', '슴/Noun', 'ㅠㅠ/KoreanParticle', '남은건/Verb', '포장/Noun', '도/Josa', '되서/Verb', '너무/Adverb', '좋았습니다/Adjective', '다음/Noun', '엔/Josa', '불고기/Noun', '먹으러/Verb', '가고싶어요/Verb', '너무/Adverb', '맛있게/Adjective', '잘/Verb', '먹었/Verb', '습/Noun', '니당/Verb']\n"
     ]
    }
   ],
   "source": [
    "\n",
    "df = pd.read_csv(\"review_data.csv\")\n",
    "\n",
    "# 한글만 추출\n",
    "df['ko_text'] = df['review'].apply(lambda x: text_cleaning(str(x)))\n",
    "del df['review']\n",
    "df = df[df['ko_text'].str.len() > 0]\n",
    "\n",
    "# 형태소 단위로 추출\n",
    "result = get_pos(df['ko_text'].values[0])\n",
    "print(result)"
   ]
  },
  {
   "cell_type": "code",
   "execution_count": 109,
   "id": "831c9fff",
   "metadata": {},
   "outputs": [
    {
     "name": "stdout",
     "output_type": "stream",
     "text": [
      "(586, 2059)\n",
      "{'맛있었어요/Adjective': 687, '콩나물/Noun': 1847, '엄청/Adverb': 1274, '좋아해서/Adjective': 1650, '많이/Adverb': 6..\n",
      "맛있었어요콩나물 엄청 좋아해서 많이 먹었는데도 많이 남았어요 조금 아까웠슴 ㅠㅠ남은건 포장도 되서 너무 좋았습니다다음엔 불고기 먹으러 가고싶어요 너무 맛있게 잘 먹었습니당\n",
      "  (0, 687)\t1\n",
      "  (0, 1847)\t1\n",
      "  (0, 1274)\t1\n",
      "  (0, 1650)\t1\n",
      "  (0, 656)\t2\n",
      "  (0, 733)\t1\n",
      "  (0, 344)\t1\n",
      "  (0, 1619)\t1\n",
      "  (0, 1152)\t1\n",
      "  (0, 1064)\t1\n",
      "  (0, 12)\t1\n",
      "  (0, 345)\t1\n",
      "  (0, 1910)\t1\n",
      "  (0, 495)\t1\n",
      "  (0, 513)\t1\n",
      "  (0, 362)\t2\n",
      "  (0, 1654)\t1\n",
      "  (0, 432)\t1\n",
      "  (0, 1308)\t1\n",
      "  (0, 928)\t1\n",
      "  (0, 738)\t1\n",
      "  (0, 23)\t1\n",
      "  (0, 672)\t1\n",
      "  (0, 1553)\t1\n",
      "  (0, 731)\t1\n",
      "  (0, 1065)\t1\n",
      "  (0, 415)\t1\n",
      "(586, 2059)\n",
      "  (0, 1910)\t0.15809645769475367\n",
      "  (0, 1847)\t0.18560228109914811\n",
      "  (0, 1654)\t0.17937266242287364\n",
      "  (0, 1650)\t0.193085497775667\n",
      "  (0, 1619)\t0.16723732632790045\n",
      "  (0, 1553)\t0.1424396758633988\n",
      "  (0, 1308)\t0.18560228109914811\n",
      "  (0, 1274)\t0.1494523370374605\n",
      "  (0, 1152)\t0.2082057087848217\n",
      "  (0, 1065)\t0.2082057087848217\n",
      "  (0, 1064)\t0.2082057087848217\n",
      "  (0, 928)\t0.19747774834620987\n",
      "  (0, 738)\t0.193085497775667\n",
      "  (0, 733)\t0.2082057087848217\n",
      "  (0, 731)\t0.2082057087848217\n",
      "  (0, 687)\t0.17162957689844333\n",
      "  (0, 672)\t0.1494523370374605\n",
      "  (0, 656)\t0.31619291538950733\n",
      "  (0, 513)\t0.2082057087848217\n",
      "  (0, 495)\t0.08055194335145406\n",
      "  (0, 432)\t0.15650936588928863\n",
      "  (0, 415)\t0.193085497775667\n",
      "  (0, 362)\t0.2152727894317132\n",
      "  (0, 345)\t0.2082057087848217\n",
      "  (0, 344)\t0.2082057087848217\n",
      "  (0, 23)\t0.2082057087848217\n",
      "  (0, 12)\t0.18235753733705515\n"
     ]
    }
   ],
   "source": [
    "from sklearn.feature_extraction.text import CountVectorizer\n",
    "from sklearn.feature_extraction.text import TfidfTransformer\n",
    "\n",
    "# 형태소를 벡터 형태의 학습 데이터셋으로 변환\n",
    "index_vectorizer = CountVectorizer(tokenizer = lambda x: get_pos(x)) # 형태소 분리\n",
    "X = index_vectorizer.fit_transform(df['ko_text'].to_list()) # 형태소 분리한 말뭉치들을 벡터를 카운트하는 연산 수행\n",
    "print(X.shape)\n",
    "print(str(index_vectorizer.vocabulary_)[:100]+\"..\")\n",
    "# 형태소 추출 테스트\n",
    "print(df['ko_text'].values[0])\n",
    "print(X[0])\n",
    "\n",
    "# TF-IDF로 변환\n",
    "# 형태소를 벡터 형태의 학습데이터셋으로 변환\n",
    "tfidf_vectorizer = TfidfTransformer()\n",
    "X = tfidf_vectorizer.fit_transform(X)\n",
    "print(X.shape)\n",
    "print(X[0])"
   ]
  },
  {
   "cell_type": "code",
   "execution_count": 96,
   "id": "e326c7c5",
   "metadata": {},
   "outputs": [
    {
     "name": "stdout",
     "output_type": "stream",
     "text": [
      "  (0, 2041)\t0.3072414723567855\n",
      "  (0, 1441)\t0.4520595180742872\n",
      "  (0, 1426)\t0.2242226478935142\n",
      "  (0, 1184)\t0.3900266270139896\n",
      "  (0, 689)\t0.2546318257463502\n",
      "  (0, 262)\t0.32538881789530605\n",
      "  (0, 203)\t0.3431370629157794\n",
      "  (0, 86)\t0.3900266270139896\n",
      "  (0, 20)\t0.24139022547234124\n"
     ]
    }
   ],
   "source": [
    "print(X[585])"
   ]
  },
  {
   "cell_type": "markdown",
   "id": "13e114a3",
   "metadata": {},
   "source": [
    "## 긍정 부정 리뷰 분류하기\n",
    "- 분류 모델링\n",
    "    - 데이터셋 분리\n",
    "    - 로지스틱 회귀\n",
    "- 분류 모델 개선"
   ]
  },
  {
   "cell_type": "code",
   "execution_count": 50,
   "id": "6dc4d3a2",
   "metadata": {},
   "outputs": [
    {
     "name": "stdout",
     "output_type": "stream",
     "text": [
      "(410, 2059)\n",
      "(176, 2059)\n",
      "accuracy_score :0.8125\n",
      "precision_score: 0.7814569536423841\n",
      "recall_score: 1.0\n",
      "f1_score: 0.8773234200743495\n",
      "confusion_matrix: [[ 25  33]\n",
      " [  0 118]]\n"
     ]
    },
    {
     "data": {
      "text/plain": [
       "<matplotlib.legend.Legend at 0x2399ee7f730>"
      ]
     },
     "execution_count": 50,
     "metadata": {},
     "output_type": "execute_result"
    },
    {
     "data": {
      "image/png": "[encoded data removed]",
      "text/plain": [
       "<Figure size 500x400 with 1 Axes>"
      ]
     },
     "metadata": {},
     "output_type": "display_data"
    }
   ],
   "source": [
    "from sklearn.model_selection import train_test_split\n",
    "from sklearn.linear_model import LogisticRegression\n",
    "from sklearn.metrics import accuracy_score, precision_score, recall_score, f1_score\n",
    "from sklearn.metrics import confusion_matrix\n",
    "from sklearn.metrics import roc_curve, roc_auc_score\n",
    "\n",
    "# 훈련 데이터 셋, 테스트 데이터셋 분리\n",
    "y = df['y']\n",
    "x_train, x_test, y_train, y_test = train_test_split(X, y, test_size=0.30) # 7대3으로 분리\n",
    "print(x_train.shape)\n",
    "print(x_test.shape)\n",
    "\n",
    "# 학습\n",
    "lr = LogisticRegression(random_state=0)\n",
    "lr.fit(x_train, y_train)\n",
    "y_pred = lr.predict(x_test)\n",
    "y_pred_probability = lr.predict_proba(x_test)[:, 1]\n",
    "\n",
    "# 성능 평가\n",
    "print(f'accuracy_score :{accuracy_score(y_test, y_pred)}')\n",
    "print(f'precision_score: {precision_score(y_test, y_pred)}')\n",
    "print(f'recall_score: {recall_score(y_test, y_pred)}')\n",
    "print(f'f1_score: {f1_score(y_test, y_pred)}')\n",
    "\n",
    "confmat = confusion_matrix(y_true=y_test, y_pred=y_pred)\n",
    "print(f'confusion_matrix: {confmat}')\n",
    "\n",
    "\n",
    "false_positive_rate, true_positive_rate, thresholds = roc_curve(y_test, y_pred_probability)\n",
    "roc_auc = roc_auc_score(y_test, y_pred_probability)\n",
    "\n",
    "plt.rcParams['figure.figsize'] = [5, 4]\n",
    "plt.plot(false_positive_rate, true_positive_rate, label='ROC curve (area = %0.3f)' % roc_auc, \n",
    "         color='red', linewidth=4.0)\n",
    "plt.plot([0, 1], [0, 1], 'k--')\n",
    "plt.xlim([0.0, 1.0])\n",
    "plt.ylim([0.0, 1.0])\n",
    "plt.xlabel('False Positive Rate') # 부정 리뷰\n",
    "plt.ylabel('True Positive Rate') # 긍정 리뷰\n",
    "plt.title('ROC curve of Logistic regression')\n",
    "plt.legend(loc=\"lower right\")"
   ]
  },
  {
   "cell_type": "markdown",
   "id": "5dc41429",
   "metadata": {},
   "source": [
    "- 전반적으로 예측 점수가 높게 나왔습니다. 근데 recall_score가 현실적으로 불가능한 1.0이 나왔습니다.\n",
    "- confusion_matrix를 출력해서 확인해보니 긍정, 부정 값이 극단적으로 나왔습니다.\n",
    "- 값을 적절히 섞어 샘플링 편향 문제를 해결해줘야 합니다."
   ]
  },
  {
   "cell_type": "code",
   "execution_count": 108,
   "id": "5086c165",
   "metadata": {},
   "outputs": [
    {
     "name": "stdout",
     "output_type": "stream",
     "text": [
      "1    403\n",
      "0    183\n",
      "Name: y, dtype: int64\n"
     ]
    },
    {
     "data": {
      "text/plain": [
       "[60,\n",
       " 455,\n",
       " 132,\n",
       " 171,\n",
       " 595,\n",
       " 270,\n",
       " 415,\n",
       " 348,\n",
       " 359,\n",
       " 199,\n",
       " 95,\n",
       " 335,\n",
       " 0,\n",
       " 616,\n",
       " 410,\n",
       " 166,\n",
       " 571,\n",
       " 419,\n",
       " 4,\n",
       " 98,\n",
       " 243,\n",
       " 329,\n",
       " 107,\n",
       " 117,\n",
       " 462,\n",
       " 620,\n",
       " 144,\n",
       " 305,\n",
       " 275,\n",
       " 463,\n",
       " 603,\n",
       " 43,\n",
       " 591,\n",
       " 549,\n",
       " 425,\n",
       " 423,\n",
       " 273,\n",
       " 56,\n",
       " 257,\n",
       " 684,\n",
       " 521,\n",
       " 87,\n",
       " 651,\n",
       " 323,\n",
       " 244,\n",
       " 288,\n",
       " 451,\n",
       " 185,\n",
       " 102,\n",
       " 284,\n",
       " 435,\n",
       " 712,\n",
       " 452,\n",
       " 628,\n",
       " 552,\n",
       " 429,\n",
       " 202,\n",
       " 568,\n",
       " 195,\n",
       " 319,\n",
       " 374,\n",
       " 245,\n",
       " 518,\n",
       " 306,\n",
       " 532,\n",
       " 531,\n",
       " 632,\n",
       " 357,\n",
       " 487,\n",
       " 553,\n",
       " 392,\n",
       " 371,\n",
       " 205,\n",
       " 619,\n",
       " 501,\n",
       " 446,\n",
       " 447,\n",
       " 541,\n",
       " 203,\n",
       " 5,\n",
       " 588,\n",
       " 525,\n",
       " 426,\n",
       " 403,\n",
       " 232,\n",
       " 538,\n",
       " 586,\n",
       " 417,\n",
       " 560,\n",
       " 526,\n",
       " 2,\n",
       " 339,\n",
       " 47,\n",
       " 578,\n",
       " 8,\n",
       " 635,\n",
       " 484,\n",
       " 444,\n",
       " 467,\n",
       " 707]"
      ]
     },
     "execution_count": 108,
     "metadata": {},
     "output_type": "execute_result"
    }
   ],
   "source": [
    "\n",
    "# 긍정, 부정 값을 보니 긍정 값이 훨씬 많이\n",
    "print(df['y'].value_counts())\n",
    "# 1:1 비율로 랜덤 샘플링 수행\n",
    "positive_random_idx = df[df['y']==1][:585].sample(50, random_state=30).index.tolist() # 1인 리스트\n",
    "negative_random_idx = df[df['y']==0][:585].sample(50, random_state=30).index.tolist() # 0인 리스트\n",
    "# 비율을 적절히 섞은 데이터로 데이터 셋을 나눔\n",
    "random_idx = positive_random_idx + negative_random_idx\n",
    "random_idx\n",
    "# print(len(X))\n",
    "# sample_X = X[random_idx, :]\n",
    "# y = df['y'][random_idx]\n",
    "# x_train, x_test, y_train, y_test = train_test_split(sample_X, y, test_size=0.30)"
   ]
  },
  {
   "cell_type": "markdown",
   "id": "42ceeab9",
   "metadata": {},
   "source": [
    "## 중요 키워드 분석\n",
    "- 회귀 모델의 피쳐 영향력 추출\n",
    "- 중요 피쳐의 형태소\n"
   ]
  }
 ],
 "metadata": {
  "kernelspec": {
   "display_name": "Python 3 (ipykernel)",
   "language": "python",
   "name": "python3"
  },
  "language_info": {
   "codemirror_mode": {
    "name": "ipython",
    "version": 3
   },
   "file_extension": ".py",
   "mimetype": "text/x-python",
   "name": "python",
   "nbconvert_exporter": "python",
   "pygments_lexer": "ipython3",
   "version": "3.9.5"
  }
 },
 "nbformat": 4,
 "nbformat_minor": 5
}
